{
 "cells": [
  {
   "cell_type": "markdown",
   "metadata": {},
   "source": [
    "# Marketing Campaigns analysis"
   ]
  },
  {
   "cell_type": "markdown",
   "metadata": {},
   "source": [
    "Data set KAG_conversion_data.csv was collected from XYZ company’s social media ad campaign. \n",
    "It contains 1143 observations in 11 variables. \n",
    "\n",
    "The descriptions of the variables are below. \n",
    "\n",
    "1.) ad_id: an unique ID for each ad. \\\n",
    "2.) xyzcampaignid: an ID associated with each ad campaign of XYZ company. \\\n",
    "3.) fbcampaignid: an ID associated with how Facebook tracks each campaign. \\\n",
    "4.) age: age of the person to whom the ad is shown. \\\n",
    "5.) gender: gender of the person to whom the add is shown \\\n",
    "6.) interest: a code specifying the category to which the person’s interest belongs (interests are\n",
    "as mentioned in the person’s Facebook public profile). \\\n",
    "7.) Impressions: the number of times the ad was shown. \\\n",
    "8.) Clicks: number of clicks on for that ad. \\\n",
    "9.) Spent: Amount paid by company xyz to Facebook, to show that ad. \\\n",
    "10.) Total conversion: Total number of people who enquired about the product after seeing the\n",
    "ad. \\\n",
    "11.) Approved conversion: Total number of people who bought the product after seeing the ad. \\\n"
   ]
  },
  {
   "cell_type": "markdown",
   "metadata": {},
   "source": [
    "# Explore data"
   ]
  },
  {
   "cell_type": "code",
   "execution_count": 2,
   "metadata": {},
   "outputs": [
    {
     "name": "stdout",
     "output_type": "stream",
     "text": [
      "<class 'pandas.core.frame.DataFrame'>\n",
      "RangeIndex: 1143 entries, 0 to 1142\n",
      "Data columns (total 11 columns):\n",
      " #   Column               Non-Null Count  Dtype  \n",
      "---  ------               --------------  -----  \n",
      " 0   ad_id                1143 non-null   int64  \n",
      " 1   xyz_campaign_id      1143 non-null   int64  \n",
      " 2   fb_campaign_id       1143 non-null   int64  \n",
      " 3   age                  1143 non-null   object \n",
      " 4   gender               1143 non-null   object \n",
      " 5   interest             1143 non-null   int64  \n",
      " 6   Impressions          1143 non-null   int64  \n",
      " 7   Clicks               1143 non-null   int64  \n",
      " 8   Spent                1143 non-null   float64\n",
      " 9   Total_Conversion     1143 non-null   int64  \n",
      " 10  Approved_Conversion  1143 non-null   int64  \n",
      "dtypes: float64(1), int64(8), object(2)\n",
      "memory usage: 98.4+ KB\n"
     ]
    },
    {
     "data": {
      "text/html": [
       "<div>\n",
       "<style scoped>\n",
       "    .dataframe tbody tr th:only-of-type {\n",
       "        vertical-align: middle;\n",
       "    }\n",
       "\n",
       "    .dataframe tbody tr th {\n",
       "        vertical-align: top;\n",
       "    }\n",
       "\n",
       "    .dataframe thead th {\n",
       "        text-align: right;\n",
       "    }\n",
       "</style>\n",
       "<table border=\"1\" class=\"dataframe\">\n",
       "  <thead>\n",
       "    <tr style=\"text-align: right;\">\n",
       "      <th></th>\n",
       "      <th>ad_id</th>\n",
       "      <th>xyz_campaign_id</th>\n",
       "      <th>fb_campaign_id</th>\n",
       "      <th>age</th>\n",
       "      <th>gender</th>\n",
       "      <th>interest</th>\n",
       "      <th>Impressions</th>\n",
       "      <th>Clicks</th>\n",
       "      <th>Spent</th>\n",
       "      <th>Total_Conversion</th>\n",
       "      <th>Approved_Conversion</th>\n",
       "    </tr>\n",
       "  </thead>\n",
       "  <tbody>\n",
       "    <tr>\n",
       "      <th>0</th>\n",
       "      <td>708746</td>\n",
       "      <td>916</td>\n",
       "      <td>103916</td>\n",
       "      <td>30-34</td>\n",
       "      <td>M</td>\n",
       "      <td>15</td>\n",
       "      <td>7350</td>\n",
       "      <td>1</td>\n",
       "      <td>1.43</td>\n",
       "      <td>2</td>\n",
       "      <td>1</td>\n",
       "    </tr>\n",
       "    <tr>\n",
       "      <th>1</th>\n",
       "      <td>708749</td>\n",
       "      <td>916</td>\n",
       "      <td>103917</td>\n",
       "      <td>30-34</td>\n",
       "      <td>M</td>\n",
       "      <td>16</td>\n",
       "      <td>17861</td>\n",
       "      <td>2</td>\n",
       "      <td>1.82</td>\n",
       "      <td>2</td>\n",
       "      <td>0</td>\n",
       "    </tr>\n",
       "    <tr>\n",
       "      <th>2</th>\n",
       "      <td>708771</td>\n",
       "      <td>916</td>\n",
       "      <td>103920</td>\n",
       "      <td>30-34</td>\n",
       "      <td>M</td>\n",
       "      <td>20</td>\n",
       "      <td>693</td>\n",
       "      <td>0</td>\n",
       "      <td>0.00</td>\n",
       "      <td>1</td>\n",
       "      <td>0</td>\n",
       "    </tr>\n",
       "  </tbody>\n",
       "</table>\n",
       "</div>"
      ],
      "text/plain": [
       "    ad_id  xyz_campaign_id  fb_campaign_id    age gender  interest  \\\n",
       "0  708746              916          103916  30-34      M        15   \n",
       "1  708749              916          103917  30-34      M        16   \n",
       "2  708771              916          103920  30-34      M        20   \n",
       "\n",
       "   Impressions  Clicks  Spent  Total_Conversion  Approved_Conversion  \n",
       "0         7350       1   1.43                 2                    1  \n",
       "1        17861       2   1.82                 2                    0  \n",
       "2          693       0   0.00                 1                    0  "
      ]
     },
     "execution_count": 2,
     "metadata": {},
     "output_type": "execute_result"
    }
   ],
   "source": [
    "# import and explore data\n",
    "import pandas as pd\n",
    "import numpy as np\n",
    "import matplotlib.pyplot as plt\n",
    "\n",
    "df = pd.read_csv('KAG_conversion_data.csv')\n",
    "df.info()\n",
    "df.shape\n",
    "df.head(3)"
   ]
  },
  {
   "cell_type": "markdown",
   "metadata": {},
   "source": [
    "# Analyse cost per acquisition for each campaign"
   ]
  },
  {
   "cell_type": "code",
   "execution_count": 3,
   "metadata": {},
   "outputs": [
    {
     "name": "stdout",
     "output_type": "stream",
     "text": [
      "                    Spent  Approved_Conversion  Cost per acquisition\n",
      "xyz_campaign_id                                                     \n",
      "916                149.71                   24                  6.24\n",
      "936               2893.37                  183                 15.81\n",
      "1178             55662.15                  872                 63.83\n",
      "\n",
      "\n"
     ]
    },
    {
     "data": {
      "image/png": "[encoded data removed]",
      "text/plain": [
       "<Figure size 504x288 with 1 Axes>"
      ]
     },
     "metadata": {
      "needs_background": "light"
     },
     "output_type": "display_data"
    }
   ],
   "source": [
    "#Calculate Cost per acquisition\n",
    "df.groupby('xyz_campaign_id')[['Spent','Approved_Conversion']].sum()\n",
    "\n",
    "paid = df.groupby('xyz_campaign_id')['Spent'].sum().round(2)\n",
    "con = df.groupby('xyz_campaign_id')['Approved_Conversion'].sum()\n",
    "cpa = round(paid/con,2)\n",
    "cpa_df = pd.DataFrame({'Spent':paid,'Approved_Conversion':con,'Cost per acquisition':cpa})\n",
    "print(cpa_df)\n",
    "print(\"\\n\")\n",
    "#print(cpa_df.describe())\n",
    "ax = cpa_df['Cost per acquisition'].plot(kind='bar',\n",
    "                                    color='orange',\n",
    "                                    figsize=(7,4),\n",
    "                                    title = \"Cost per acquisition for each ad campaign of XYZ company\")\n",
    "ax.set_xlabel(\"Campaign id\")\n",
    "ax.set_ylabel(\"Cost per acquisition\")\n",
    "plt.show()"
   ]
  },
  {
   "cell_type": "markdown",
   "metadata": {},
   "source": [
    "Cost per acquisition for each campaign can be defined by Spent/Approved Conversion.\n",
    "The analysis revealed that campaign id 1178 had the highest cost per acquisition of 63.83 unit per customer.\n",
    "However, campaign id 1178 spent the most money on advertising."
   ]
  },
  {
   "cell_type": "code",
   "execution_count": 4,
   "metadata": {},
   "outputs": [
    {
     "name": "stdout",
     "output_type": "stream",
     "text": [
      "\n",
      "   Campaign 916\n",
      "count    54.000000\n",
      "mean      2.772407\n",
      "std       3.990071\n",
      "min       0.000000\n",
      "25%       0.000000\n",
      "50%       1.450000\n",
      "75%       3.057500\n",
      "max      18.070000\n",
      "Name: Spent, dtype: float64\n",
      "\n",
      "   Campaign 936\n",
      "count    464.000000\n",
      "mean       6.235711\n",
      "std       16.287179\n",
      "min        0.000000\n",
      "25%        0.000000\n",
      "50%        1.385000\n",
      "75%        4.605000\n",
      "max      180.220001\n",
      "Name: Spent, dtype: float64\n",
      "\n",
      "   Campaign 1178\n",
      "count    625.000000\n",
      "mean      89.059440\n",
      "std      102.386480\n",
      "min        0.000000\n",
      "25%       19.110000\n",
      "50%       48.549999\n",
      "75%      120.879999\n",
      "max      639.949998\n",
      "Name: Spent, dtype: float64\n"
     ]
    },
    {
     "data": {
      "image/png": "[encoded data removed]",
      "text/plain": [
       "<Figure size 864x288 with 3 Axes>"
      ]
     },
     "metadata": {
      "needs_background": "light"
     },
     "output_type": "display_data"
    },
    {
     "name": "stdout",
     "output_type": "stream",
     "text": [
      "\n",
      "   Campaign 916\n",
      "count    54.000000\n",
      "mean      0.444444\n",
      "std       0.501570\n",
      "min       0.000000\n",
      "25%       0.000000\n",
      "50%       0.000000\n",
      "75%       1.000000\n",
      "max       1.000000\n",
      "Name: Approved_Conversion, dtype: float64\n",
      "\n",
      "   Campaign 936\n",
      "count    464.000000\n",
      "mean       0.394397\n",
      "std        0.539629\n",
      "min        0.000000\n",
      "25%        0.000000\n",
      "50%        0.000000\n",
      "75%        1.000000\n",
      "max        3.000000\n",
      "Name: Approved_Conversion, dtype: float64\n",
      "\n",
      "   Campaign 1178\n",
      "count    625.000000\n",
      "mean       1.395200\n",
      "std        2.199718\n",
      "min        0.000000\n",
      "25%        0.000000\n",
      "50%        1.000000\n",
      "75%        2.000000\n",
      "max       21.000000\n",
      "Name: Approved_Conversion, dtype: float64\n"
     ]
    },
    {
     "data": {
      "image/png": "[encoded data removed]",
      "text/plain": [
       "<Figure size 864x288 with 3 Axes>"
      ]
     },
     "metadata": {
      "needs_background": "light"
     },
     "output_type": "display_data"
    }
   ],
   "source": [
    "#Explore Distribution of Spent for each campaign\n",
    "fig = plt.figure(figsize=(12,4))\n",
    "plt.suptitle('Spent distribution for each campaign')\n",
    "ax=plt.subplot(\"131\")\n",
    "df[df['xyz_campaign_id']==916]['Spent'].hist(ax=ax)\n",
    "ax.set_title(\"916\")\n",
    "ax.set_ylabel(\"Spent\")\n",
    "print(\"\\n   Campaign 916\")\n",
    "print(df[df['xyz_campaign_id']==916]['Spent'].describe())\n",
    "\n",
    "ax=plt.subplot(\"132\")\n",
    "df[df['xyz_campaign_id']==936]['Spent'].hist(ax=ax)\n",
    "ax.set_title(\"936\")\n",
    "print(\"\\n   Campaign 936\")\n",
    "print(df[df['xyz_campaign_id']==936]['Spent'].describe())\n",
    "\n",
    "ax=plt.subplot(\"133\")\n",
    "df[df['xyz_campaign_id']==1178]['Spent'].hist(ax=ax)\n",
    "ax.set_title(\"1178\")\n",
    "print(\"\\n   Campaign 1178\")\n",
    "print(df[df['xyz_campaign_id']==1178]['Spent'].describe())\n",
    "\n",
    "plt.show()\n",
    "\n",
    "#Explore Distribution of Approved_Conversion for each campaign\n",
    "fig = plt.figure(figsize=(12,4))\n",
    "plt.suptitle('Approved_Conversion distribution for each campaign')\n",
    "ax=plt.subplot(\"131\")\n",
    "df[df['xyz_campaign_id']==916]['Approved_Conversion'].hist(ax=ax)\n",
    "ax.set_title(\"916\")\n",
    "ax.set_ylabel(\"Approved_Conversion\")\n",
    "print(\"\\n   Campaign 916\")\n",
    "print(df[df['xyz_campaign_id']==916]['Approved_Conversion'].describe())\n",
    "\n",
    "ax=plt.subplot(\"132\")\n",
    "df[df['xyz_campaign_id']==936]['Approved_Conversion'].hist(ax=ax)\n",
    "ax.set_title(\"936\")\n",
    "print(\"\\n   Campaign 936\")\n",
    "print(df[df['xyz_campaign_id']==936]['Approved_Conversion'].describe())\n",
    "\n",
    "ax=plt.subplot(\"133\")\n",
    "df[df['xyz_campaign_id']==1178]['Approved_Conversion'].hist(ax=ax)\n",
    "ax.set_title(\"1178\")\n",
    "print(\"\\n   Campaign 1178\")\n",
    "print(df[df['xyz_campaign_id']==1178]['Approved_Conversion'].describe())\n",
    "\n",
    "plt.show()"
   ]
  },
  {
   "cell_type": "markdown",
   "metadata": {},
   "source": [
    "By analysing histograms \\\n",
    "The spent distribution histogram show that data for all campaigns are skewed to the right. \\\n",
    "From two histograms, they shows that most of advertisings have small payout and get small of customers.\n",
    "\n",
    "\n",
    "Campaign 916 had the lowest approved conversion because it spent less money on advertising than others.\n",
    "\n",
    "\n",
    "Campaign 1179 had the most approved conversion because it spent the most money on advertising.\n",
    "This campaign had the highest cost per acquisition. It can be implied that this campaign gained a lot of customer because of frequencly advertise."
   ]
  },
  {
   "cell_type": "markdown",
   "metadata": {},
   "source": [
    "# Analyse click-through rate for each campaign"
   ]
  },
  {
   "cell_type": "code",
   "execution_count": 5,
   "metadata": {},
   "outputs": [
    {
     "name": "stdout",
     "output_type": "stream",
     "text": [
      "                 Clicks  Impression  Click-through rate\n",
      "xyz_campaign_id                                        \n",
      "916                 113      482925            0.023399\n",
      "936                1984     8128187            0.024409\n",
      "1178              36068   204823716            0.017609\n"
     ]
    },
    {
     "data": {
      "image/png": "[encoded data removed]",
      "text/plain": [
       "<Figure size 432x288 with 1 Axes>"
      ]
     },
     "metadata": {
      "needs_background": "light"
     },
     "output_type": "display_data"
    }
   ],
   "source": [
    "#Click-through rate >> (Clicks/Impression)*100\n",
    "df.head()\n",
    "df.groupby('xyz_campaign_id')[['Impressions','Clicks']].sum()\n",
    "click = df.groupby('xyz_campaign_id')['Clicks'].sum()\n",
    "Imp = df.groupby('xyz_campaign_id')['Impressions'].sum()\n",
    "ctr = (click/Imp)*100\n",
    "ctr_df = pd.DataFrame({'Clicks':click,'Impression':Imp,'Click-through rate':ctr})\n",
    "print(ctr_df)\n",
    "ctr_df['Click-through rate'].plot(kind='bar',title=\"Click-through rate %\")\n",
    "plt.show()"
   ]
  },
  {
   "cell_type": "markdown",
   "metadata": {},
   "source": [
    "The analysis reveal that Campaign 936 has the highest CTR at 0.024409%.\n",
    "\n",
    "Campaign 916 has 0.023399% CTR and Campaign 1178 has the lowest CTR at 0.017609%.\n",
    "\n",
    "When focusing on impression, the analysis finds that campaign 1178 has the most impression.\n"
   ]
  },
  {
   "cell_type": "markdown",
   "metadata": {},
   "source": [
    "# Analyse Conversion Rate for each campaign"
   ]
  },
  {
   "cell_type": "code",
   "execution_count": 10,
   "metadata": {},
   "outputs": [
    {
     "name": "stdout",
     "output_type": "stream",
     "text": [
      "                 Approved_Conversion  Total_Conversion  Conversion rate\n",
      "xyz_campaign_id                                                        \n",
      "916                               24                58        41.379310\n",
      "936                              183               537        34.078212\n",
      "1178                             872              2669        32.671413\n"
     ]
    },
    {
     "data": {
      "image/png": "[encoded data removed]",
      "text/plain": [
       "<Figure size 432x288 with 1 Axes>"
      ]
     },
     "metadata": {
      "needs_background": "light"
     },
     "output_type": "display_data"
    }
   ],
   "source": [
    "# Conversion rate >> (Approved_Conversion/Total_Conversion)*100\n",
    "df.head()\n",
    "df.groupby('xyz_campaign_id')[['Approved_Conversion','Total_Conversion']].sum()\n",
    "Acon = df.groupby('xyz_campaign_id')['Approved_Conversion'].sum()\n",
    "con = df.groupby('xyz_campaign_id')['Total_Conversion'].sum()\n",
    "con_rate = (Acon/con)*100\n",
    "con_rate_df = pd.DataFrame({'Approved_Conversion':Acon,'Total_Conversion':con,'Conversion rate':con_rate})\n",
    "print(con_rate_df)\n",
    "con_rate_df[\"Conversion rate\"].plot(kind='bar',title=\"Conversion rate %\")\n",
    "plt.show()"
   ]
  },
  {
   "cell_type": "markdown",
   "metadata": {},
   "source": [
    "Campaign 916 has the highest conversion rate at 41.38%.\n",
    "\n",
    "Campaign 936 has conversion rate at 34.08% and Campaign 1178 has the lowest conversion rate at 32.67%\n",
    "\n",
    "May reconsider to less support campaign 1178 and spend more money on campaign 916."
   ]
  },
  {
   "cell_type": "markdown",
   "metadata": {},
   "source": [
    "# Analyse Conversion rate by age and gender"
   ]
  },
  {
   "cell_type": "code",
   "execution_count": 11,
   "metadata": {},
   "outputs": [
    {
     "data": {
      "text/html": [
       "<div>\n",
       "<style scoped>\n",
       "    .dataframe tbody tr th:only-of-type {\n",
       "        vertical-align: middle;\n",
       "    }\n",
       "\n",
       "    .dataframe tbody tr th {\n",
       "        vertical-align: top;\n",
       "    }\n",
       "\n",
       "    .dataframe thead th {\n",
       "        text-align: right;\n",
       "    }\n",
       "</style>\n",
       "<table border=\"1\" class=\"dataframe\">\n",
       "  <thead>\n",
       "    <tr style=\"text-align: right;\">\n",
       "      <th></th>\n",
       "      <th>ad_id</th>\n",
       "      <th>xyz_campaign_id</th>\n",
       "      <th>fb_campaign_id</th>\n",
       "      <th>age</th>\n",
       "      <th>gender</th>\n",
       "      <th>interest</th>\n",
       "      <th>Impressions</th>\n",
       "      <th>Clicks</th>\n",
       "      <th>Spent</th>\n",
       "      <th>Total_Conversion</th>\n",
       "      <th>Approved_Conversion</th>\n",
       "    </tr>\n",
       "  </thead>\n",
       "  <tbody>\n",
       "    <tr>\n",
       "      <th>1138</th>\n",
       "      <td>1314410</td>\n",
       "      <td>1178</td>\n",
       "      <td>179977</td>\n",
       "      <td>45-49</td>\n",
       "      <td>F</td>\n",
       "      <td>109</td>\n",
       "      <td>1129773</td>\n",
       "      <td>252</td>\n",
       "      <td>358.189997</td>\n",
       "      <td>13</td>\n",
       "      <td>2</td>\n",
       "    </tr>\n",
       "    <tr>\n",
       "      <th>1139</th>\n",
       "      <td>1314411</td>\n",
       "      <td>1178</td>\n",
       "      <td>179978</td>\n",
       "      <td>45-49</td>\n",
       "      <td>F</td>\n",
       "      <td>110</td>\n",
       "      <td>637549</td>\n",
       "      <td>120</td>\n",
       "      <td>173.880003</td>\n",
       "      <td>3</td>\n",
       "      <td>0</td>\n",
       "    </tr>\n",
       "    <tr>\n",
       "      <th>1140</th>\n",
       "      <td>1314412</td>\n",
       "      <td>1178</td>\n",
       "      <td>179979</td>\n",
       "      <td>45-49</td>\n",
       "      <td>F</td>\n",
       "      <td>111</td>\n",
       "      <td>151531</td>\n",
       "      <td>28</td>\n",
       "      <td>40.289999</td>\n",
       "      <td>2</td>\n",
       "      <td>0</td>\n",
       "    </tr>\n",
       "    <tr>\n",
       "      <th>1141</th>\n",
       "      <td>1314414</td>\n",
       "      <td>1178</td>\n",
       "      <td>179981</td>\n",
       "      <td>45-49</td>\n",
       "      <td>F</td>\n",
       "      <td>113</td>\n",
       "      <td>790253</td>\n",
       "      <td>135</td>\n",
       "      <td>198.710000</td>\n",
       "      <td>8</td>\n",
       "      <td>2</td>\n",
       "    </tr>\n",
       "    <tr>\n",
       "      <th>1142</th>\n",
       "      <td>1314415</td>\n",
       "      <td>1178</td>\n",
       "      <td>179982</td>\n",
       "      <td>45-49</td>\n",
       "      <td>F</td>\n",
       "      <td>114</td>\n",
       "      <td>513161</td>\n",
       "      <td>114</td>\n",
       "      <td>165.609999</td>\n",
       "      <td>5</td>\n",
       "      <td>2</td>\n",
       "    </tr>\n",
       "  </tbody>\n",
       "</table>\n",
       "</div>"
      ],
      "text/plain": [
       "        ad_id  xyz_campaign_id  fb_campaign_id    age gender  interest  \\\n",
       "1138  1314410             1178          179977  45-49      F       109   \n",
       "1139  1314411             1178          179978  45-49      F       110   \n",
       "1140  1314412             1178          179979  45-49      F       111   \n",
       "1141  1314414             1178          179981  45-49      F       113   \n",
       "1142  1314415             1178          179982  45-49      F       114   \n",
       "\n",
       "      Impressions  Clicks       Spent  Total_Conversion  Approved_Conversion  \n",
       "1138      1129773     252  358.189997                13                    2  \n",
       "1139       637549     120  173.880003                 3                    0  \n",
       "1140       151531      28   40.289999                 2                    0  \n",
       "1141       790253     135  198.710000                 8                    2  \n",
       "1142       513161     114  165.609999                 5                    2  "
      ]
     },
     "execution_count": 11,
     "metadata": {},
     "output_type": "execute_result"
    }
   ],
   "source": [
    "df.head()\n",
    "df.tail()\n",
    "#df.describe()\n",
    "#df.age.unique()"
   ]
  },
  {
   "cell_type": "code",
   "execution_count": 12,
   "metadata": {},
   "outputs": [
    {
     "data": {
      "image/png": "[encoded data removed]",
      "text/plain": [
       "<Figure size 1008x1008 with 4 Axes>"
      ]
     },
     "metadata": {
      "needs_background": "light"
     },
     "output_type": "display_data"
    },
    {
     "data": {
      "text/html": [
       "<div>\n",
       "<style scoped>\n",
       "    .dataframe tbody tr th:only-of-type {\n",
       "        vertical-align: middle;\n",
       "    }\n",
       "\n",
       "    .dataframe tbody tr th {\n",
       "        vertical-align: top;\n",
       "    }\n",
       "\n",
       "    .dataframe thead th {\n",
       "        text-align: right;\n",
       "    }\n",
       "</style>\n",
       "<table border=\"1\" class=\"dataframe\">\n",
       "  <thead>\n",
       "    <tr style=\"text-align: right;\">\n",
       "      <th></th>\n",
       "      <th>xyz_campaign_id</th>\n",
       "      <th>916</th>\n",
       "      <th>936</th>\n",
       "      <th>1178</th>\n",
       "    </tr>\n",
       "    <tr>\n",
       "      <th>gender</th>\n",
       "      <th>age</th>\n",
       "      <th></th>\n",
       "      <th></th>\n",
       "      <th></th>\n",
       "    </tr>\n",
       "  </thead>\n",
       "  <tbody>\n",
       "    <tr>\n",
       "      <th rowspan=\"4\" valign=\"top\">F</th>\n",
       "      <th>30-34</th>\n",
       "      <td>0.002638</td>\n",
       "      <td>0.003910</td>\n",
       "      <td>0.000500</td>\n",
       "    </tr>\n",
       "    <tr>\n",
       "      <th>35-39</th>\n",
       "      <td>0.008965</td>\n",
       "      <td>0.002534</td>\n",
       "      <td>0.000350</td>\n",
       "    </tr>\n",
       "    <tr>\n",
       "      <th>40-44</th>\n",
       "      <td>0.026233</td>\n",
       "      <td>0.001238</td>\n",
       "      <td>0.000357</td>\n",
       "    </tr>\n",
       "    <tr>\n",
       "      <th>45-49</th>\n",
       "      <td>0.006555</td>\n",
       "      <td>0.000666</td>\n",
       "      <td>0.000249</td>\n",
       "    </tr>\n",
       "    <tr>\n",
       "      <th rowspan=\"4\" valign=\"top\">M</th>\n",
       "      <th>30-34</th>\n",
       "      <td>0.006599</td>\n",
       "      <td>0.007441</td>\n",
       "      <td>0.000681</td>\n",
       "    </tr>\n",
       "    <tr>\n",
       "      <th>35-39</th>\n",
       "      <td>0.007151</td>\n",
       "      <td>0.004930</td>\n",
       "      <td>0.000467</td>\n",
       "    </tr>\n",
       "    <tr>\n",
       "      <th>40-44</th>\n",
       "      <td>0.005158</td>\n",
       "      <td>0.005551</td>\n",
       "      <td>0.000383</td>\n",
       "    </tr>\n",
       "    <tr>\n",
       "      <th>45-49</th>\n",
       "      <td>0.001935</td>\n",
       "      <td>0.001852</td>\n",
       "      <td>0.000334</td>\n",
       "    </tr>\n",
       "  </tbody>\n",
       "</table>\n",
       "</div>"
      ],
      "text/plain": [
       "xyz_campaign_id      916       936       1178\n",
       "gender age                                   \n",
       "F      30-34     0.002638  0.003910  0.000500\n",
       "       35-39     0.008965  0.002534  0.000350\n",
       "       40-44     0.026233  0.001238  0.000357\n",
       "       45-49     0.006555  0.000666  0.000249\n",
       "M      30-34     0.006599  0.007441  0.000681\n",
       "       35-39     0.007151  0.004930  0.000467\n",
       "       40-44     0.005158  0.005551  0.000383\n",
       "       45-49     0.001935  0.001852  0.000334"
      ]
     },
     "execution_count": 12,
     "metadata": {},
     "output_type": "execute_result"
    }
   ],
   "source": [
    "## Approved conversion rate\n",
    "\n",
    "#Approved_conversion rate by gender\n",
    "\n",
    "con1 = df.pivot_table('Approved_Conversion',['xyz_campaign_id'],['gender'],margins=False,aggfunc='sum')\n",
    "Imp1 = df.pivot_table('Impressions',['xyz_campaign_id'],['gender'],margins=False,aggfunc='sum')\n",
    "con_rate1 = (con1/Imp1)*100\n",
    "\n",
    "fig = plt.figure(figsize=(14,14))\n",
    "\n",
    "ax = plt.subplot(\"221\")\n",
    "con_rate1.plot(kind='bar', \n",
    "               ax=ax,\n",
    "               title='conversion rate by gender')\n",
    "ax.set_xlabel(\"Campaigns\")\n",
    "ax.set_ylabel(\"Approved conversion rate\")\n",
    "\n",
    "#Approved_conversion rate by age\n",
    "\n",
    "con2 = df.pivot_table('Approved_Conversion',['xyz_campaign_id'],['age'],margins=False,aggfunc='sum')\n",
    "Imp2 = df.pivot_table('Impressions',['xyz_campaign_id'],['age'],margins=False,aggfunc='sum')\n",
    "con_rate2 = (con2/Imp2)*100\n",
    "\n",
    "ax = plt.subplot(\"222\")\n",
    "\n",
    "con_rate2.plot(kind='bar',\n",
    "               ax = ax,\n",
    "               title='conversion rate by age')\n",
    "ax.set_xlabel(\"Campaigns\")\n",
    "\n",
    "\n",
    "#Male-age con rate for each campaign\n",
    "m_con = df[df['gender']=='M'].pivot_table('Approved_Conversion',['xyz_campaign_id'],['age'],margins=False,aggfunc='sum')\n",
    "m_Imp = df[df['gender']=='M'].pivot_table('Impressions',['xyz_campaign_id'],['age'],margins=False,aggfunc='sum')\n",
    "m_con_rate = (m_con/m_Imp)*100\n",
    "\n",
    "ax = plt.subplot(\"223\")\n",
    "m_ax = m_con_rate.plot(kind='bar',\n",
    "                       ax = ax,\n",
    "                       title='Male conversion rate by age',\n",
    "                       grid=True)\n",
    "m_ax.set_ylim(ymax = 0.03, ymin = 0)\n",
    "ax.set_xlabel(\"Campaigns\")\n",
    "ax.set_ylabel(\"Approved conversion rate\")\n",
    "\n",
    "#Female-age con rate for each campaign\n",
    "f_con = df[df['gender']=='F'].pivot_table('Approved_Conversion',['xyz_campaign_id'],['age'],margins=False,aggfunc='sum')\n",
    "f_Imp = df[df['gender']=='F'].pivot_table('Impressions',['xyz_campaign_id'],['age'],margins=False,aggfunc='sum')\n",
    "f_con_rate = (f_con/f_Imp)*100\n",
    "ax = plt.subplot(\"224\")\n",
    "f_ax = f_con_rate.plot(kind='bar',\n",
    "                    title='Female conversion rate by age',\n",
    "                    ax=ax,\n",
    "                    grid=True)\n",
    "f_ax.set_ylim(ymax = 0.03, ymin = 0)\n",
    "ax.set_xlabel(\"Campaigns\")\n",
    "plt.show()\n",
    "\n",
    "#conversion rate gender and age for each campaign\n",
    "con = df.pivot_table('Approved_Conversion',['gender','age'],['xyz_campaign_id'],margins=False,aggfunc='sum')\n",
    "Imp = df.pivot_table('Impressions',['gender','age'],['xyz_campaign_id'],margins=False,aggfunc='sum')\n",
    "con_rate = (con/Imp)*100\n",
    "con_rate"
   ]
  },
  {
   "cell_type": "markdown",
   "metadata": {},
   "source": [
    "The analysis of approved conversion rate for each campaign by age and gender.\n",
    "\n",
    "From top left graph, the conversion rate by gender shows that males have approved conversion rate more than females.\n",
    "\n",
    "From top right graph, the conversion rate by age shows that Campign 916 has a good result for people in age group 35 to 44 years.\n",
    "\n",
    "From bottom left graph, Male conversion rate by age shows that Campaing 916 and 936 have higher conversion rate than Campaign 1178.\n",
    " \n",
    "From bottom right graph, Female conversion rate by age shows that age has a huge effect on conversion rate for female.\n",
    "\n",
    "Females in age group 40 to 44 has a incredible high conversion rate on Campaign 916. \n",
    "This age group must be the terget for this campaign.\n"
   ]
  },
  {
   "cell_type": "markdown",
   "metadata": {},
   "source": [
    "# Analyse Click-through rate "
   ]
  },
  {
   "cell_type": "code",
   "execution_count": 14,
   "metadata": {},
   "outputs": [
    {
     "data": {
      "image/png": "[encoded data removed]",
      "text/plain": [
       "<Figure size 1008x1008 with 4 Axes>"
      ]
     },
     "metadata": {
      "needs_background": "light"
     },
     "output_type": "display_data"
    },
    {
     "data": {
      "text/html": [
       "<div>\n",
       "<style scoped>\n",
       "    .dataframe tbody tr th:only-of-type {\n",
       "        vertical-align: middle;\n",
       "    }\n",
       "\n",
       "    .dataframe tbody tr th {\n",
       "        vertical-align: top;\n",
       "    }\n",
       "\n",
       "    .dataframe thead th {\n",
       "        text-align: right;\n",
       "    }\n",
       "</style>\n",
       "<table border=\"1\" class=\"dataframe\">\n",
       "  <thead>\n",
       "    <tr style=\"text-align: right;\">\n",
       "      <th></th>\n",
       "      <th>xyz_campaign_id</th>\n",
       "      <th>916</th>\n",
       "      <th>936</th>\n",
       "      <th>1178</th>\n",
       "    </tr>\n",
       "    <tr>\n",
       "      <th>gender</th>\n",
       "      <th>age</th>\n",
       "      <th></th>\n",
       "      <th></th>\n",
       "      <th></th>\n",
       "    </tr>\n",
       "  </thead>\n",
       "  <tbody>\n",
       "    <tr>\n",
       "      <th rowspan=\"4\" valign=\"top\">F</th>\n",
       "      <th>30-34</th>\n",
       "      <td>0.023746</td>\n",
       "      <td>0.018648</td>\n",
       "      <td>0.016031</td>\n",
       "    </tr>\n",
       "    <tr>\n",
       "      <th>35-39</th>\n",
       "      <td>0.035858</td>\n",
       "      <td>0.026259</td>\n",
       "      <td>0.019110</td>\n",
       "    </tr>\n",
       "    <tr>\n",
       "      <th>40-44</th>\n",
       "      <td>0.026233</td>\n",
       "      <td>0.026511</td>\n",
       "      <td>0.021937</td>\n",
       "    </tr>\n",
       "    <tr>\n",
       "      <th>45-49</th>\n",
       "      <td>0.036053</td>\n",
       "      <td>0.027843</td>\n",
       "      <td>0.024215</td>\n",
       "    </tr>\n",
       "    <tr>\n",
       "      <th rowspan=\"4\" valign=\"top\">M</th>\n",
       "      <th>30-34</th>\n",
       "      <td>0.019798</td>\n",
       "      <td>0.015185</td>\n",
       "      <td>0.011956</td>\n",
       "    </tr>\n",
       "    <tr>\n",
       "      <th>35-39</th>\n",
       "      <td>0.018592</td>\n",
       "      <td>0.019310</td>\n",
       "      <td>0.014117</td>\n",
       "    </tr>\n",
       "    <tr>\n",
       "      <th>40-44</th>\n",
       "      <td>0.022350</td>\n",
       "      <td>0.023058</td>\n",
       "      <td>0.015657</td>\n",
       "    </tr>\n",
       "    <tr>\n",
       "      <th>45-49</th>\n",
       "      <td>0.027085</td>\n",
       "      <td>0.021371</td>\n",
       "      <td>0.017318</td>\n",
       "    </tr>\n",
       "  </tbody>\n",
       "</table>\n",
       "</div>"
      ],
      "text/plain": [
       "xyz_campaign_id      916       936       1178\n",
       "gender age                                   \n",
       "F      30-34     0.023746  0.018648  0.016031\n",
       "       35-39     0.035858  0.026259  0.019110\n",
       "       40-44     0.026233  0.026511  0.021937\n",
       "       45-49     0.036053  0.027843  0.024215\n",
       "M      30-34     0.019798  0.015185  0.011956\n",
       "       35-39     0.018592  0.019310  0.014117\n",
       "       40-44     0.022350  0.023058  0.015657\n",
       "       45-49     0.027085  0.021371  0.017318"
      ]
     },
     "execution_count": 14,
     "metadata": {},
     "output_type": "execute_result"
    }
   ],
   "source": [
    "## Click-through rate\n",
    "\n",
    "#CTR by gender\n",
    "\n",
    "con1 = df.pivot_table('Clicks',['xyz_campaign_id'],['gender'],margins=False,aggfunc='sum')\n",
    "Imp1 = df.pivot_table('Impressions',['xyz_campaign_id'],['gender'],margins=False,aggfunc='sum')\n",
    "con_rate1 = (con1/Imp1)*100\n",
    "\n",
    "fig = plt.figure(figsize=(14,14))\n",
    "\n",
    "ax = plt.subplot(\"221\")\n",
    "con_rate1.plot(kind='bar', \n",
    "               ax=ax,\n",
    "               title='CTR by gender')\n",
    "ax.set_xlabel(\"Campaigns\")\n",
    "ax.set_ylabel(\"CTR\")\n",
    "\n",
    "#CTR by age\n",
    "\n",
    "con2 = df.pivot_table('Clicks',['xyz_campaign_id'],['age'],margins=False,aggfunc='sum')\n",
    "Imp2 = df.pivot_table('Impressions',['xyz_campaign_id'],['age'],margins=False,aggfunc='sum')\n",
    "con_rate2 = (con2/Imp2)*100\n",
    "\n",
    "ax = plt.subplot(\"222\")\n",
    "\n",
    "con_rate2.plot(kind='bar',\n",
    "               ax = ax,\n",
    "               title='CTR by age')\n",
    "ax.set_xlabel(\"Campaigns\")\n",
    "\n",
    "\n",
    "#Male-age CTR for each campaign\n",
    "m_con = df[df['gender']=='M'].pivot_table('Clicks',['xyz_campaign_id'],['age'],margins=False,aggfunc='sum')\n",
    "m_Imp = df[df['gender']=='M'].pivot_table('Impressions',['xyz_campaign_id'],['age'],margins=False,aggfunc='sum')\n",
    "m_con_rate = (m_con/m_Imp)*100\n",
    "\n",
    "ax = plt.subplot(\"223\")\n",
    "m_ax = m_con_rate.plot(kind='bar',\n",
    "                       ax = ax,\n",
    "                       title='Male CTR by age',\n",
    "                       grid=True)\n",
    "m_ax.set_ylim(ymax = 0.04, ymin = 0)\n",
    "ax.set_xlabel(\"Campaigns\")\n",
    "ax.set_ylabel(\"CTR\")\n",
    "\n",
    "#Female-age con rate for each campaign\n",
    "f_con = df[df['gender']=='F'].pivot_table('Clicks',['xyz_campaign_id'],['age'],margins=False,aggfunc='sum')\n",
    "f_Imp = df[df['gender']=='F'].pivot_table('Impressions',['xyz_campaign_id'],['age'],margins=False,aggfunc='sum')\n",
    "f_con_rate = (f_con/f_Imp)*100\n",
    "ax = plt.subplot(\"224\")\n",
    "f_ax = f_con_rate.plot(kind='bar',\n",
    "                    title='Female CTR by age',\n",
    "                    ax=ax,\n",
    "                    grid=True)\n",
    "f_ax.set_ylim(ymax = 0.04, ymin = 0)\n",
    "ax.set_xlabel(\"Campaigns\")\n",
    "plt.show()\n",
    "\n",
    "#conversion rate gender and age for each campaign\n",
    "con = df.pivot_table('Clicks',['gender','age'],['xyz_campaign_id'],margins=False,aggfunc='sum')\n",
    "Imp = df.pivot_table('Impressions',['gender','age'],['xyz_campaign_id'],margins=False,aggfunc='sum')\n",
    "ctr = (con/Imp)*100\n",
    "ctr"
   ]
  },
  {
   "cell_type": "markdown",
   "metadata": {},
   "source": [
    "The analysis of Click-through rate for each campaign by age and gender.\n",
    "\n",
    "From top left graph, the Click-through rate by gender shows that females have Click-through rate more than males for all campaigns.\n",
    "\n",
    "From top right graph, the Click-through rate by age shows that the highest CTR for all campaigns is age group 45 to 49. The older the more CTR\n",
    "\n",
    "From bottom left graph, Male click-through rate by age shows a little different for all campaigns.\n",
    " \n",
    "From bottom right graph, Female click-through rate by age shows a little different for all campaigns.\n",
    "\n",
    "However, in Campaign 916, Females in age group 35 to 39 and 45 to 49 have higher CTR than others."
   ]
  },
  {
   "cell_type": "code",
   "execution_count": 16,
   "metadata": {
    "scrolled": true
   },
   "outputs": [
    {
     "data": {
      "image/png": "[encoded data removed]",
      "text/plain": [
       "<Figure size 1008x360 with 2 Axes>"
      ]
     },
     "metadata": {
      "needs_background": "light"
     },
     "output_type": "display_data"
    }
   ],
   "source": [
    "## Gender: Approved conversion rate and CTR\n",
    "\n",
    "#Approved conversion rate\n",
    "con1 = df.pivot_table('Approved_Conversion',['xyz_campaign_id'],['gender'],margins=False,aggfunc='sum')\n",
    "Imp1 = df.pivot_table('Impressions',['xyz_campaign_id'],['gender'],margins=False,aggfunc='sum')\n",
    "con_rate1 = (con1/Imp1)*100\n",
    "\n",
    "fig = plt.figure(figsize=(14,5))\n",
    "\n",
    "ax = plt.subplot(\"122\")\n",
    "con_rate1.plot(kind='bar', \n",
    "               ax=ax,\n",
    "               title='conversion rate by gender')\n",
    "ax.set_xlabel(\"Campaigns\")\n",
    "ax.set_ylabel(\"Approved conversion rate\")\n",
    "\n",
    "#CTR\n",
    "con2 = df.pivot_table('Clicks',['xyz_campaign_id'],['gender'],margins=False,aggfunc='sum')\n",
    "Imp2 = df.pivot_table('Impressions',['xyz_campaign_id'],['gender'],margins=False,aggfunc='sum')\n",
    "con_rate2 = (con2/Imp2)*100\n",
    "\n",
    "\n",
    "ax = plt.subplot(\"121\")\n",
    "con_rate2.plot(kind='bar', \n",
    "               ax=ax,\n",
    "               title='CTR by gender')\n",
    "ax.set_xlabel(\"Campaigns\")\n",
    "ax.set_ylabel(\"CTR\")\n",
    "plt.show()"
   ]
  },
  {
   "cell_type": "markdown",
   "metadata": {},
   "source": [
    "When look at Approved conversion rate and Click-through rate by gender for all campaigns, Females have higher CTR than males,\n",
    "\n",
    "Males have higher Approved conversion rate than females.\n",
    "\n",
    "It can be implied that females like to click to see advertisement more than meles.\n",
    "\n",
    "However, males trend to buy product more than females.\n"
   ]
  },
  {
   "cell_type": "code",
   "execution_count": 18,
   "metadata": {},
   "outputs": [
    {
     "data": {
      "image/png": "[encoded data removed]",
      "text/plain": [
       "<Figure size 1008x360 with 2 Axes>"
      ]
     },
     "metadata": {
      "needs_background": "light"
     },
     "output_type": "display_data"
    }
   ],
   "source": [
    "## Age: Approved conversion rate and CTR\n",
    "\n",
    "#Approved conversion rate\n",
    "con1 = df.pivot_table('Approved_Conversion',['xyz_campaign_id'],['age'],margins=False,aggfunc='sum')\n",
    "Imp1 = df.pivot_table('Impressions',['xyz_campaign_id'],['age'],margins=False,aggfunc='sum')\n",
    "con_rate1 = (con1/Imp1)*100\n",
    "\n",
    "fig = plt.figure(figsize=(14,5))\n",
    "\n",
    "ax = plt.subplot(\"122\")\n",
    "con_rate1.plot(kind='bar', \n",
    "               ax=ax,\n",
    "               title='conversion rate by age')\n",
    "ax.set_xlabel(\"Campaigns\")\n",
    "ax.set_ylabel(\"Approved conversion rate\")\n",
    "\n",
    "#CTR\n",
    "con2 = df.pivot_table('Clicks',['xyz_campaign_id'],['age'],margins=False,aggfunc='sum')\n",
    "Imp2 = df.pivot_table('Impressions',['xyz_campaign_id'],['age'],margins=False,aggfunc='sum')\n",
    "con_rate2 = (con2/Imp2)*100\n",
    "\n",
    "\n",
    "ax = plt.subplot(\"121\")\n",
    "con_rate2.plot(kind='bar', \n",
    "               ax=ax,\n",
    "               title='CTR by age')\n",
    "ax.set_xlabel(\"Campaigns\")\n",
    "ax.set_ylabel(\"CTR\")\n",
    "plt.show()"
   ]
  },
  {
   "cell_type": "markdown",
   "metadata": {},
   "source": [
    "Approved conversion rate and Click-through rate by age, \n",
    "the older the higher CTR, the younger the higher Approved conversion rate."
   ]
  }
 ],
 "metadata": {
  "kernelspec": {
   "display_name": "Python 3",
   "language": "python",
   "name": "python3"
  },
  "language_info": {
   "codemirror_mode": {
    "name": "ipython",
    "version": 3
   },
   "file_extension": ".py",
   "mimetype": "text/x-python",
   "name": "python",
   "nbconvert_exporter": "python",
   "pygments_lexer": "ipython3",
   "version": "3.8.3"
  }
 },
 "nbformat": 4,
 "nbformat_minor": 4
}
